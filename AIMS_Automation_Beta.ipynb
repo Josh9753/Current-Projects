{
 "cells": [
  {
   "cell_type": "markdown",
   "metadata": {},
   "source": [
    "# Scripts to Test Warehouse Summary Data\n",
    "## Peter Stoermer"
   ]
  },
  {
   "cell_type": "code",
   "execution_count": 1,
   "metadata": {},
   "outputs": [],
   "source": [
    "# Libraries\n",
    "import pandas as pd\n",
    "import numpy as np"
   ]
  },
  {
   "cell_type": "markdown",
   "metadata": {},
   "source": [
    "### Files Needed For Script to Run\n",
    "1. 7-SI & 13-SI\n",
    "2. 7-SV & 13-SV\n",
    "3. 7-ON & 13-ON\n",
    "4. 7-SI-INV & 13-SI-INV\n",
    "5. 7-SV-INV & 13-SV-INV\n",
    "6. 7-ON-INV & 13-ON-INV\n",
    "7. Inventory Report for Audit\n",
    "\n",
    "#### Methodology\n",
    "The AIMS sales and inventory data gets appended together to make one large data set for each warehouse. Pivot tables are done on that new large dataset to find *sales* and *inventory* figures by date (instruction how to convert invoice date to month is shown below). Once we isolate month I ran pivot tables on the files using month as the index with the different values we needed. Once those isolated dataframes are ran I combinded them and took totals both across rows and down columns. From there I apply the same logic to combine the inventory data from the three warehouses. I then find the total space and units from that data for the summary of the data when it is pulled (thus the date_time cell). To find the amount and space of product going out, I merged the inventory audit data and the combinded sales data to form a master dataframe (this part was difficult because there is not one unique identifier for the products, so I had to make one using both the product stlye and color to find how much space \"CBM\" is used for each product). From there I ran another pivot table for both CBM and CBF by month. \n",
    "\n",
    "Once all of the dataframes are together, I wrote a function that could write all of the dataframes to a single sheet in an excel file so it can be shared, worked on and viewed easily."
   ]
  },
  {
   "cell_type": "markdown",
   "metadata": {},
   "source": [
    "### SI Sales Data\n",
    "The first step is to get the information for both 7 & 13. I then combined them using an *.append()* method because both flat-files have the same structure. Once all of the data is collected I ouput the pivot table looking at the sales data. These are the major steps needed.\n",
    "1. Gather AIMS Data\n",
    "2. Using the #-WH file make a new \"month\" column\n",
    " - in Exel use *=MONTH(invdate)*\n",
    "3. Use the pivot tables I made using the Pandas python library"
   ]
  },
  {
   "cell_type": "code",
   "execution_count": 2,
   "metadata": {},
   "outputs": [
    {
     "data": {
      "text/html": [
       "<div>\n",
       "<style scoped>\n",
       "    .dataframe tbody tr th:only-of-type {\n",
       "        vertical-align: middle;\n",
       "    }\n",
       "\n",
       "    .dataframe tbody tr th {\n",
       "        vertical-align: top;\n",
       "    }\n",
       "\n",
       "    .dataframe thead th {\n",
       "        text-align: right;\n",
       "    }\n",
       "</style>\n",
       "<table border=\"1\" class=\"dataframe\">\n",
       "  <thead>\n",
       "    <tr style=\"text-align: right;\">\n",
       "      <th></th>\n",
       "      <th>division</th>\n",
       "      <th>linecode</th>\n",
       "      <th>style</th>\n",
       "      <th>color</th>\n",
       "      <th>desc</th>\n",
       "      <th>catcode</th>\n",
       "      <th>upcno</th>\n",
       "      <th>shptot</th>\n",
       "      <th>price</th>\n",
       "      <th>amount</th>\n",
       "      <th>...</th>\n",
       "      <th>order</th>\n",
       "      <th>entered</th>\n",
       "      <th>month</th>\n",
       "      <th>edifile</th>\n",
       "      <th>note1</th>\n",
       "      <th>ststate</th>\n",
       "      <th>stzip</th>\n",
       "      <th>piktkt</th>\n",
       "      <th>piktktdate</th>\n",
       "      <th>ediitem</th>\n",
       "    </tr>\n",
       "  </thead>\n",
       "  <tbody>\n",
       "    <tr>\n",
       "      <th>0</th>\n",
       "      <td>D</td>\n",
       "      <td>EC</td>\n",
       "      <td>EB197</td>\n",
       "      <td>BNI</td>\n",
       "      <td>SglHdlBatroom Faucet</td>\n",
       "      <td>NaN</td>\n",
       "      <td>92903951541</td>\n",
       "      <td>1</td>\n",
       "      <td>81.89</td>\n",
       "      <td>81.89</td>\n",
       "      <td>...</td>\n",
       "      <td>816949</td>\n",
       "      <td>18-Apr-22</td>\n",
       "      <td>4</td>\n",
       "      <td>NaN</td>\n",
       "      <td>NaN</td>\n",
       "      <td>ON</td>\n",
       "      <td>K2E 1C5</td>\n",
       "      <td>812467</td>\n",
       "      <td>18-Apr-22</td>\n",
       "      <td>EB197</td>\n",
       "    </tr>\n",
       "    <tr>\n",
       "      <th>1</th>\n",
       "      <td>D</td>\n",
       "      <td>EC</td>\n",
       "      <td>EB197</td>\n",
       "      <td>BNI</td>\n",
       "      <td>SglHdlBatroom Faucet</td>\n",
       "      <td>NaN</td>\n",
       "      <td>92903951541</td>\n",
       "      <td>1</td>\n",
       "      <td>81.89</td>\n",
       "      <td>81.89</td>\n",
       "      <td>...</td>\n",
       "      <td>817355</td>\n",
       "      <td>03-May-22</td>\n",
       "      <td>5</td>\n",
       "      <td>NaN</td>\n",
       "      <td>NaN</td>\n",
       "      <td>ON</td>\n",
       "      <td>K2E 1C5</td>\n",
       "      <td>812835</td>\n",
       "      <td>03-May-22</td>\n",
       "      <td>EB197</td>\n",
       "    </tr>\n",
       "    <tr>\n",
       "      <th>2</th>\n",
       "      <td>D</td>\n",
       "      <td>EC</td>\n",
       "      <td>EB197</td>\n",
       "      <td>BNI</td>\n",
       "      <td>SglHdlBatroom Faucet</td>\n",
       "      <td>NaN</td>\n",
       "      <td>92903951541</td>\n",
       "      <td>3</td>\n",
       "      <td>81.89</td>\n",
       "      <td>245.67</td>\n",
       "      <td>...</td>\n",
       "      <td>817476</td>\n",
       "      <td>09-May-22</td>\n",
       "      <td>5</td>\n",
       "      <td>NaN</td>\n",
       "      <td>NaN</td>\n",
       "      <td>ON</td>\n",
       "      <td>K2E 1C5</td>\n",
       "      <td>812955</td>\n",
       "      <td>09-May-22</td>\n",
       "      <td>EB197</td>\n",
       "    </tr>\n",
       "    <tr>\n",
       "      <th>3</th>\n",
       "      <td>D</td>\n",
       "      <td>EC</td>\n",
       "      <td>EB197</td>\n",
       "      <td>BNI</td>\n",
       "      <td>SglHdlBatroom Faucet</td>\n",
       "      <td>NaN</td>\n",
       "      <td>92903951541</td>\n",
       "      <td>1</td>\n",
       "      <td>81.89</td>\n",
       "      <td>81.89</td>\n",
       "      <td>...</td>\n",
       "      <td>817573</td>\n",
       "      <td>11-May-22</td>\n",
       "      <td>5</td>\n",
       "      <td>NaN</td>\n",
       "      <td>NaN</td>\n",
       "      <td>ON</td>\n",
       "      <td>K2E 1C5</td>\n",
       "      <td>813044</td>\n",
       "      <td>11-May-22</td>\n",
       "      <td>EB197</td>\n",
       "    </tr>\n",
       "    <tr>\n",
       "      <th>4</th>\n",
       "      <td>D</td>\n",
       "      <td>EC</td>\n",
       "      <td>EB197</td>\n",
       "      <td>BNI</td>\n",
       "      <td>SglHdlBatroom Faucet</td>\n",
       "      <td>NaN</td>\n",
       "      <td>92903951541</td>\n",
       "      <td>2</td>\n",
       "      <td>81.89</td>\n",
       "      <td>163.78</td>\n",
       "      <td>...</td>\n",
       "      <td>819630</td>\n",
       "      <td>22-Jul-22</td>\n",
       "      <td>7</td>\n",
       "      <td>NaN</td>\n",
       "      <td>NaN</td>\n",
       "      <td>ON</td>\n",
       "      <td>K2E 1C5</td>\n",
       "      <td>815063</td>\n",
       "      <td>22-Jul-22</td>\n",
       "      <td>EB197</td>\n",
       "    </tr>\n",
       "  </tbody>\n",
       "</table>\n",
       "<p>5 rows × 26 columns</p>\n",
       "</div>"
      ],
      "text/plain": [
       "  division linecode  style color                  desc  catcode        upcno  \\\n",
       "0        D       EC  EB197   BNI  SglHdlBatroom Faucet      NaN  92903951541   \n",
       "1        D       EC  EB197   BNI  SglHdlBatroom Faucet      NaN  92903951541   \n",
       "2        D       EC  EB197   BNI  SglHdlBatroom Faucet      NaN  92903951541   \n",
       "3        D       EC  EB197   BNI  SglHdlBatroom Faucet      NaN  92903951541   \n",
       "4        D       EC  EB197   BNI  SglHdlBatroom Faucet      NaN  92903951541   \n",
       "\n",
       "   shptot  price  amount  ...   order    entered month edifile  note1 ststate  \\\n",
       "0       1  81.89   81.89  ...  816949  18-Apr-22     4     NaN    NaN      ON   \n",
       "1       1  81.89   81.89  ...  817355  03-May-22     5     NaN    NaN      ON   \n",
       "2       3  81.89  245.67  ...  817476  09-May-22     5     NaN    NaN      ON   \n",
       "3       1  81.89   81.89  ...  817573  11-May-22     5     NaN    NaN      ON   \n",
       "4       2  81.89  163.78  ...  819630  22-Jul-22     7     NaN    NaN      ON   \n",
       "\n",
       "     stzip  piktkt  piktktdate ediitem  \n",
       "0  K2E 1C5  812467   18-Apr-22   EB197  \n",
       "1  K2E 1C5  812835   03-May-22   EB197  \n",
       "2  K2E 1C5  812955   09-May-22   EB197  \n",
       "3  K2E 1C5  813044   11-May-22   EB197  \n",
       "4  K2E 1C5  815063   22-Jul-22   EB197  \n",
       "\n",
       "[5 rows x 26 columns]"
      ]
     },
     "execution_count": 2,
     "metadata": {},
     "output_type": "execute_result"
    }
   ],
   "source": [
    "si7_p = r'C:\\Users\\Peter Stoermer\\OneDrive - Enchante Living\\Documents\\Joint_Project_Test\\Test(7-SI).xlsx'\n",
    "df = pd.read_excel(si7_p)\n",
    "df.head()"
   ]
  },
  {
   "cell_type": "code",
   "execution_count": 3,
   "metadata": {},
   "outputs": [],
   "source": [
    "# test = df.pivot_table(index=['month'], values=['amount'], aggfunc='sum')\n",
    "# print(test)"
   ]
  },
  {
   "cell_type": "code",
   "execution_count": 4,
   "metadata": {},
   "outputs": [
    {
     "data": {
      "text/html": [
       "<div>\n",
       "<style scoped>\n",
       "    .dataframe tbody tr th:only-of-type {\n",
       "        vertical-align: middle;\n",
       "    }\n",
       "\n",
       "    .dataframe tbody tr th {\n",
       "        vertical-align: top;\n",
       "    }\n",
       "\n",
       "    .dataframe thead th {\n",
       "        text-align: right;\n",
       "    }\n",
       "</style>\n",
       "<table border=\"1\" class=\"dataframe\">\n",
       "  <thead>\n",
       "    <tr style=\"text-align: right;\">\n",
       "      <th></th>\n",
       "      <th>division</th>\n",
       "      <th>linecode</th>\n",
       "      <th>style</th>\n",
       "      <th>color</th>\n",
       "      <th>desc</th>\n",
       "      <th>catcode</th>\n",
       "      <th>upcno</th>\n",
       "      <th>shptot</th>\n",
       "      <th>price</th>\n",
       "      <th>amount</th>\n",
       "      <th>...</th>\n",
       "      <th>month</th>\n",
       "      <th>order</th>\n",
       "      <th>entered</th>\n",
       "      <th>edifile</th>\n",
       "      <th>note1</th>\n",
       "      <th>ststate</th>\n",
       "      <th>stzip</th>\n",
       "      <th>piktkt</th>\n",
       "      <th>piktktdate</th>\n",
       "      <th>ediitem</th>\n",
       "    </tr>\n",
       "  </thead>\n",
       "  <tbody>\n",
       "    <tr>\n",
       "      <th>0</th>\n",
       "      <td>A</td>\n",
       "      <td>IL</td>\n",
       "      <td>CE97011C</td>\n",
       "      <td>BLK</td>\n",
       "      <td>Amelie LED Desk Lamp</td>\n",
       "      <td>NaN</td>\n",
       "      <td>92903943454</td>\n",
       "      <td>4</td>\n",
       "      <td>28.5</td>\n",
       "      <td>114.0</td>\n",
       "      <td>...</td>\n",
       "      <td>1</td>\n",
       "      <td>131567</td>\n",
       "      <td>01-Jan-22</td>\n",
       "      <td>ss0103o.2ac</td>\n",
       "      <td>NaN</td>\n",
       "      <td>NS</td>\n",
       "      <td>B4N 3E6</td>\n",
       "      <td>129119</td>\n",
       "      <td>03-Jan-22</td>\n",
       "      <td>2997313</td>\n",
       "    </tr>\n",
       "    <tr>\n",
       "      <th>1</th>\n",
       "      <td>A</td>\n",
       "      <td>IL</td>\n",
       "      <td>CE97011C</td>\n",
       "      <td>BLK</td>\n",
       "      <td>Amelie LED Desk Lamp</td>\n",
       "      <td>NaN</td>\n",
       "      <td>92903943454</td>\n",
       "      <td>4</td>\n",
       "      <td>28.5</td>\n",
       "      <td>114.0</td>\n",
       "      <td>...</td>\n",
       "      <td>1</td>\n",
       "      <td>131555</td>\n",
       "      <td>30-Dec-21</td>\n",
       "      <td>ss0103o.2aa</td>\n",
       "      <td>NaN</td>\n",
       "      <td>ON</td>\n",
       "      <td>K6H 6R3</td>\n",
       "      <td>129107</td>\n",
       "      <td>03-Jan-22</td>\n",
       "      <td>2997313</td>\n",
       "    </tr>\n",
       "    <tr>\n",
       "      <th>2</th>\n",
       "      <td>A</td>\n",
       "      <td>IL</td>\n",
       "      <td>CE97011C</td>\n",
       "      <td>BLK</td>\n",
       "      <td>Amelie LED Desk Lamp</td>\n",
       "      <td>NaN</td>\n",
       "      <td>92903943454</td>\n",
       "      <td>4</td>\n",
       "      <td>28.5</td>\n",
       "      <td>114.0</td>\n",
       "      <td>...</td>\n",
       "      <td>1</td>\n",
       "      <td>131558</td>\n",
       "      <td>30-Dec-21</td>\n",
       "      <td>ss0103o.2aa</td>\n",
       "      <td>NaN</td>\n",
       "      <td>ON</td>\n",
       "      <td>K8P 5L2</td>\n",
       "      <td>129110</td>\n",
       "      <td>03-Jan-22</td>\n",
       "      <td>2997313</td>\n",
       "    </tr>\n",
       "    <tr>\n",
       "      <th>3</th>\n",
       "      <td>A</td>\n",
       "      <td>IL</td>\n",
       "      <td>CE97011C</td>\n",
       "      <td>BLK</td>\n",
       "      <td>Amelie LED Desk Lamp</td>\n",
       "      <td>NaN</td>\n",
       "      <td>92903943454</td>\n",
       "      <td>4</td>\n",
       "      <td>28.5</td>\n",
       "      <td>114.0</td>\n",
       "      <td>...</td>\n",
       "      <td>1</td>\n",
       "      <td>131563</td>\n",
       "      <td>31-Dec-21</td>\n",
       "      <td>ss0103o.2ab</td>\n",
       "      <td>NaN</td>\n",
       "      <td>ON</td>\n",
       "      <td>K9J 3R8</td>\n",
       "      <td>129115</td>\n",
       "      <td>03-Jan-22</td>\n",
       "      <td>2997313</td>\n",
       "    </tr>\n",
       "    <tr>\n",
       "      <th>4</th>\n",
       "      <td>A</td>\n",
       "      <td>IL</td>\n",
       "      <td>CE97011C</td>\n",
       "      <td>BLK</td>\n",
       "      <td>Amelie LED Desk Lamp</td>\n",
       "      <td>NaN</td>\n",
       "      <td>92903943454</td>\n",
       "      <td>4</td>\n",
       "      <td>28.5</td>\n",
       "      <td>114.0</td>\n",
       "      <td>...</td>\n",
       "      <td>1</td>\n",
       "      <td>131557</td>\n",
       "      <td>30-Dec-21</td>\n",
       "      <td>ss0103o.2aa</td>\n",
       "      <td>NaN</td>\n",
       "      <td>AB</td>\n",
       "      <td>T6N 1K1</td>\n",
       "      <td>129109</td>\n",
       "      <td>03-Jan-22</td>\n",
       "      <td>2997313</td>\n",
       "    </tr>\n",
       "  </tbody>\n",
       "</table>\n",
       "<p>5 rows × 26 columns</p>\n",
       "</div>"
      ],
      "text/plain": [
       "  division linecode     style color                  desc  catcode  \\\n",
       "0        A       IL  CE97011C   BLK  Amelie LED Desk Lamp      NaN   \n",
       "1        A       IL  CE97011C   BLK  Amelie LED Desk Lamp      NaN   \n",
       "2        A       IL  CE97011C   BLK  Amelie LED Desk Lamp      NaN   \n",
       "3        A       IL  CE97011C   BLK  Amelie LED Desk Lamp      NaN   \n",
       "4        A       IL  CE97011C   BLK  Amelie LED Desk Lamp      NaN   \n",
       "\n",
       "         upcno  shptot  price  amount  ...  month   order    entered  \\\n",
       "0  92903943454       4   28.5   114.0  ...      1  131567  01-Jan-22   \n",
       "1  92903943454       4   28.5   114.0  ...      1  131555  30-Dec-21   \n",
       "2  92903943454       4   28.5   114.0  ...      1  131558  30-Dec-21   \n",
       "3  92903943454       4   28.5   114.0  ...      1  131563  31-Dec-21   \n",
       "4  92903943454       4   28.5   114.0  ...      1  131557  30-Dec-21   \n",
       "\n",
       "       edifile  note1 ststate    stzip  piktkt piktktdate  ediitem  \n",
       "0  ss0103o.2ac    NaN      NS  B4N 3E6  129119  03-Jan-22  2997313  \n",
       "1  ss0103o.2aa    NaN      ON  K6H 6R3  129107  03-Jan-22  2997313  \n",
       "2  ss0103o.2aa    NaN      ON  K8P 5L2  129110  03-Jan-22  2997313  \n",
       "3  ss0103o.2ab    NaN      ON  K9J 3R8  129115  03-Jan-22  2997313  \n",
       "4  ss0103o.2aa    NaN      AB  T6N 1K1  129109  03-Jan-22  2997313  \n",
       "\n",
       "[5 rows x 26 columns]"
      ]
     },
     "execution_count": 4,
     "metadata": {},
     "output_type": "execute_result"
    }
   ],
   "source": [
    "si13_p =  r'C:\\Users\\Peter Stoermer\\OneDrive - Enchante Living\\Documents\\Joint_Project_Test\\Test(13-SI).xlsx'\n",
    "df_2 = pd.read_excel(si13_p)\n",
    "df_2.head()"
   ]
  },
  {
   "cell_type": "code",
   "execution_count": 5,
   "metadata": {},
   "outputs": [
    {
     "name": "stderr",
     "output_type": "stream",
     "text": [
      "C:\\ProgramData\\Anaconda3\\lib\\site-packages\\pandas\\core\\frame.py:6692: FutureWarning: Sorting because non-concatenation axis is not aligned. A future version\n",
      "of pandas will change to not sort by default.\n",
      "\n",
      "To accept the future behavior, pass 'sort=False'.\n",
      "\n",
      "To retain the current behavior and silence the warning, pass 'sort=True'.\n",
      "\n",
      "  sort=sort)\n"
     ]
    }
   ],
   "source": [
    "si_data = df.append(df_2)\n",
    "#df_3.to_excel(\"yuwrong.xlsx\")"
   ]
  },
  {
   "cell_type": "code",
   "execution_count": 6,
   "metadata": {
    "scrolled": true
   },
   "outputs": [
    {
     "data": {
      "text/html": [
       "<div>\n",
       "<style scoped>\n",
       "    .dataframe tbody tr th:only-of-type {\n",
       "        vertical-align: middle;\n",
       "    }\n",
       "\n",
       "    .dataframe tbody tr th {\n",
       "        vertical-align: top;\n",
       "    }\n",
       "\n",
       "    .dataframe thead th {\n",
       "        text-align: right;\n",
       "    }\n",
       "</style>\n",
       "<table border=\"1\" class=\"dataframe\">\n",
       "  <thead>\n",
       "    <tr style=\"text-align: right;\">\n",
       "      <th></th>\n",
       "      <th>si_sales</th>\n",
       "    </tr>\n",
       "    <tr>\n",
       "      <th>month</th>\n",
       "      <th></th>\n",
       "    </tr>\n",
       "  </thead>\n",
       "  <tbody>\n",
       "    <tr>\n",
       "      <th>1</th>\n",
       "      <td>87044.98</td>\n",
       "    </tr>\n",
       "    <tr>\n",
       "      <th>2</th>\n",
       "      <td>116577.85</td>\n",
       "    </tr>\n",
       "    <tr>\n",
       "      <th>3</th>\n",
       "      <td>185044.41</td>\n",
       "    </tr>\n",
       "    <tr>\n",
       "      <th>4</th>\n",
       "      <td>54819.43</td>\n",
       "    </tr>\n",
       "    <tr>\n",
       "      <th>5</th>\n",
       "      <td>131119.51</td>\n",
       "    </tr>\n",
       "    <tr>\n",
       "      <th>6</th>\n",
       "      <td>99001.17</td>\n",
       "    </tr>\n",
       "    <tr>\n",
       "      <th>7</th>\n",
       "      <td>94188.89</td>\n",
       "    </tr>\n",
       "    <tr>\n",
       "      <th>8</th>\n",
       "      <td>103340.02</td>\n",
       "    </tr>\n",
       "    <tr>\n",
       "      <th>9</th>\n",
       "      <td>23641.62</td>\n",
       "    </tr>\n",
       "    <tr>\n",
       "      <th>All</th>\n",
       "      <td>894777.88</td>\n",
       "    </tr>\n",
       "  </tbody>\n",
       "</table>\n",
       "</div>"
      ],
      "text/plain": [
       "        si_sales\n",
       "month           \n",
       "1       87044.98\n",
       "2      116577.85\n",
       "3      185044.41\n",
       "4       54819.43\n",
       "5      131119.51\n",
       "6       99001.17\n",
       "7       94188.89\n",
       "8      103340.02\n",
       "9       23641.62\n",
       "All    894777.88"
      ]
     },
     "execution_count": 6,
     "metadata": {},
     "output_type": "execute_result"
    }
   ],
   "source": [
    "si_sales_data = si_data.pivot_table(index=['month'], values=['amount'], aggfunc='sum', margins=True)\n",
    "si_sales_data = si_sales_data.rename(columns={'amount':'si_sales'})\n",
    "\n",
    "si_sales_data"
   ]
  },
  {
   "cell_type": "markdown",
   "metadata": {},
   "source": [
    "### SI Inventory Data"
   ]
  },
  {
   "cell_type": "code",
   "execution_count": 7,
   "metadata": {},
   "outputs": [
    {
     "data": {
      "text/html": [
       "<div>\n",
       "<style scoped>\n",
       "    .dataframe tbody tr th:only-of-type {\n",
       "        vertical-align: middle;\n",
       "    }\n",
       "\n",
       "    .dataframe tbody tr th {\n",
       "        vertical-align: top;\n",
       "    }\n",
       "\n",
       "    .dataframe thead th {\n",
       "        text-align: right;\n",
       "    }\n",
       "</style>\n",
       "<table border=\"1\" class=\"dataframe\">\n",
       "  <thead>\n",
       "    <tr style=\"text-align: right;\">\n",
       "      <th></th>\n",
       "      <th>si_inv</th>\n",
       "    </tr>\n",
       "    <tr>\n",
       "      <th>month</th>\n",
       "      <th></th>\n",
       "    </tr>\n",
       "  </thead>\n",
       "  <tbody>\n",
       "    <tr>\n",
       "      <th>1</th>\n",
       "      <td>3014</td>\n",
       "    </tr>\n",
       "    <tr>\n",
       "      <th>2</th>\n",
       "      <td>3508</td>\n",
       "    </tr>\n",
       "    <tr>\n",
       "      <th>3</th>\n",
       "      <td>5468</td>\n",
       "    </tr>\n",
       "    <tr>\n",
       "      <th>4</th>\n",
       "      <td>1039</td>\n",
       "    </tr>\n",
       "    <tr>\n",
       "      <th>5</th>\n",
       "      <td>1873</td>\n",
       "    </tr>\n",
       "    <tr>\n",
       "      <th>6</th>\n",
       "      <td>1149</td>\n",
       "    </tr>\n",
       "    <tr>\n",
       "      <th>7</th>\n",
       "      <td>1892</td>\n",
       "    </tr>\n",
       "    <tr>\n",
       "      <th>8</th>\n",
       "      <td>2172</td>\n",
       "    </tr>\n",
       "    <tr>\n",
       "      <th>9</th>\n",
       "      <td>481</td>\n",
       "    </tr>\n",
       "    <tr>\n",
       "      <th>All</th>\n",
       "      <td>20596</td>\n",
       "    </tr>\n",
       "  </tbody>\n",
       "</table>\n",
       "</div>"
      ],
      "text/plain": [
       "       si_inv\n",
       "month        \n",
       "1        3014\n",
       "2        3508\n",
       "3        5468\n",
       "4        1039\n",
       "5        1873\n",
       "6        1149\n",
       "7        1892\n",
       "8        2172\n",
       "9         481\n",
       "All     20596"
      ]
     },
     "execution_count": 7,
     "metadata": {},
     "output_type": "execute_result"
    }
   ],
   "source": [
    "si_inventory_data = si_data.pivot_table(index=['month'], values=['shptot'], aggfunc='sum', margins=True)\n",
    "si_inventory_data = si_inventory_data.rename(columns={'shptot':'si_inv'})\n",
    "\n",
    "si_inventory_data"
   ]
  },
  {
   "cell_type": "markdown",
   "metadata": {},
   "source": [
    "### ON Sales Data"
   ]
  },
  {
   "cell_type": "code",
   "execution_count": 8,
   "metadata": {},
   "outputs": [
    {
     "data": {
      "text/html": [
       "<div>\n",
       "<style scoped>\n",
       "    .dataframe tbody tr th:only-of-type {\n",
       "        vertical-align: middle;\n",
       "    }\n",
       "\n",
       "    .dataframe tbody tr th {\n",
       "        vertical-align: top;\n",
       "    }\n",
       "\n",
       "    .dataframe thead th {\n",
       "        text-align: right;\n",
       "    }\n",
       "</style>\n",
       "<table border=\"1\" class=\"dataframe\">\n",
       "  <thead>\n",
       "    <tr style=\"text-align: right;\">\n",
       "      <th></th>\n",
       "      <th>on_sales</th>\n",
       "    </tr>\n",
       "    <tr>\n",
       "      <th>month</th>\n",
       "      <th></th>\n",
       "    </tr>\n",
       "  </thead>\n",
       "  <tbody>\n",
       "    <tr>\n",
       "      <th>1</th>\n",
       "      <td>543840.26</td>\n",
       "    </tr>\n",
       "    <tr>\n",
       "      <th>2</th>\n",
       "      <td>662820.98</td>\n",
       "    </tr>\n",
       "    <tr>\n",
       "      <th>3</th>\n",
       "      <td>376896.87</td>\n",
       "    </tr>\n",
       "    <tr>\n",
       "      <th>4</th>\n",
       "      <td>366437.41</td>\n",
       "    </tr>\n",
       "    <tr>\n",
       "      <th>5</th>\n",
       "      <td>107552.70</td>\n",
       "    </tr>\n",
       "    <tr>\n",
       "      <th>6</th>\n",
       "      <td>423283.87</td>\n",
       "    </tr>\n",
       "    <tr>\n",
       "      <th>7</th>\n",
       "      <td>918518.20</td>\n",
       "    </tr>\n",
       "    <tr>\n",
       "      <th>8</th>\n",
       "      <td>2807595.56</td>\n",
       "    </tr>\n",
       "    <tr>\n",
       "      <th>9</th>\n",
       "      <td>341555.86</td>\n",
       "    </tr>\n",
       "    <tr>\n",
       "      <th>All</th>\n",
       "      <td>6548501.71</td>\n",
       "    </tr>\n",
       "  </tbody>\n",
       "</table>\n",
       "</div>"
      ],
      "text/plain": [
       "         on_sales\n",
       "month            \n",
       "1       543840.26\n",
       "2       662820.98\n",
       "3       376896.87\n",
       "4       366437.41\n",
       "5       107552.70\n",
       "6       423283.87\n",
       "7       918518.20\n",
       "8      2807595.56\n",
       "9       341555.86\n",
       "All    6548501.71"
      ]
     },
     "execution_count": 8,
     "metadata": {},
     "output_type": "execute_result"
    }
   ],
   "source": [
    "on7_p = pd.read_excel(r'C:\\Users\\Peter Stoermer\\OneDrive - Enchante Living\\Documents\\Joint_Project_Test\\Test(7-ON).xlsx')\n",
    "on13_p = pd.read_excel(r'C:\\Users\\Peter Stoermer\\OneDrive - Enchante Living\\Documents\\Joint_Project_Test\\Test(13-ON).xlsx')\n",
    "on_data = on7_p.append(on13_p)\n",
    "#all_data.to_excel(\"Chekc.xlsx\")\n",
    "on_sales_data = on_data.pivot_table(index=['month'], values=['amount'], aggfunc='sum', margins=True)\n",
    "on_sales_data = on_sales_data.rename(columns={'amount':'on_sales'})\n",
    "\n",
    "on_sales_data"
   ]
  },
  {
   "cell_type": "markdown",
   "metadata": {},
   "source": [
    "### ON Inventory Data"
   ]
  },
  {
   "cell_type": "code",
   "execution_count": 9,
   "metadata": {},
   "outputs": [
    {
     "data": {
      "text/html": [
       "<div>\n",
       "<style scoped>\n",
       "    .dataframe tbody tr th:only-of-type {\n",
       "        vertical-align: middle;\n",
       "    }\n",
       "\n",
       "    .dataframe tbody tr th {\n",
       "        vertical-align: top;\n",
       "    }\n",
       "\n",
       "    .dataframe thead th {\n",
       "        text-align: right;\n",
       "    }\n",
       "</style>\n",
       "<table border=\"1\" class=\"dataframe\">\n",
       "  <thead>\n",
       "    <tr style=\"text-align: right;\">\n",
       "      <th></th>\n",
       "      <th>on_inv</th>\n",
       "    </tr>\n",
       "    <tr>\n",
       "      <th>month</th>\n",
       "      <th></th>\n",
       "    </tr>\n",
       "  </thead>\n",
       "  <tbody>\n",
       "    <tr>\n",
       "      <th>1</th>\n",
       "      <td>157621</td>\n",
       "    </tr>\n",
       "    <tr>\n",
       "      <th>2</th>\n",
       "      <td>153773</td>\n",
       "    </tr>\n",
       "    <tr>\n",
       "      <th>3</th>\n",
       "      <td>69874</td>\n",
       "    </tr>\n",
       "    <tr>\n",
       "      <th>4</th>\n",
       "      <td>104702</td>\n",
       "    </tr>\n",
       "    <tr>\n",
       "      <th>5</th>\n",
       "      <td>28082</td>\n",
       "    </tr>\n",
       "    <tr>\n",
       "      <th>6</th>\n",
       "      <td>87036</td>\n",
       "    </tr>\n",
       "    <tr>\n",
       "      <th>7</th>\n",
       "      <td>139083</td>\n",
       "    </tr>\n",
       "    <tr>\n",
       "      <th>8</th>\n",
       "      <td>427753</td>\n",
       "    </tr>\n",
       "    <tr>\n",
       "      <th>9</th>\n",
       "      <td>71018</td>\n",
       "    </tr>\n",
       "    <tr>\n",
       "      <th>All</th>\n",
       "      <td>1238942</td>\n",
       "    </tr>\n",
       "  </tbody>\n",
       "</table>\n",
       "</div>"
      ],
      "text/plain": [
       "        on_inv\n",
       "month         \n",
       "1       157621\n",
       "2       153773\n",
       "3        69874\n",
       "4       104702\n",
       "5        28082\n",
       "6        87036\n",
       "7       139083\n",
       "8       427753\n",
       "9        71018\n",
       "All    1238942"
      ]
     },
     "execution_count": 9,
     "metadata": {},
     "output_type": "execute_result"
    }
   ],
   "source": [
    "on_inventory_data = on_data.pivot_table(index=['month'], values=['shptot'], aggfunc='sum', margins=True)\n",
    "on_inventory_data = on_inventory_data.rename(columns={'shptot':'on_inv'})\n",
    "\n",
    "on_inventory_data"
   ]
  },
  {
   "cell_type": "markdown",
   "metadata": {},
   "source": [
    "### SV Sales Data"
   ]
  },
  {
   "cell_type": "code",
   "execution_count": 10,
   "metadata": {},
   "outputs": [
    {
     "data": {
      "text/html": [
       "<div>\n",
       "<style scoped>\n",
       "    .dataframe tbody tr th:only-of-type {\n",
       "        vertical-align: middle;\n",
       "    }\n",
       "\n",
       "    .dataframe tbody tr th {\n",
       "        vertical-align: top;\n",
       "    }\n",
       "\n",
       "    .dataframe thead th {\n",
       "        text-align: right;\n",
       "    }\n",
       "</style>\n",
       "<table border=\"1\" class=\"dataframe\">\n",
       "  <thead>\n",
       "    <tr style=\"text-align: right;\">\n",
       "      <th></th>\n",
       "      <th>sv_sales</th>\n",
       "    </tr>\n",
       "    <tr>\n",
       "      <th>month</th>\n",
       "      <th></th>\n",
       "    </tr>\n",
       "  </thead>\n",
       "  <tbody>\n",
       "    <tr>\n",
       "      <th>1</th>\n",
       "      <td>118941.780</td>\n",
       "    </tr>\n",
       "    <tr>\n",
       "      <th>2</th>\n",
       "      <td>184252.446</td>\n",
       "    </tr>\n",
       "    <tr>\n",
       "      <th>3</th>\n",
       "      <td>152082.980</td>\n",
       "    </tr>\n",
       "    <tr>\n",
       "      <th>4</th>\n",
       "      <td>178057.890</td>\n",
       "    </tr>\n",
       "    <tr>\n",
       "      <th>5</th>\n",
       "      <td>44729.910</td>\n",
       "    </tr>\n",
       "    <tr>\n",
       "      <th>6</th>\n",
       "      <td>18858.240</td>\n",
       "    </tr>\n",
       "    <tr>\n",
       "      <th>7</th>\n",
       "      <td>61741.450</td>\n",
       "    </tr>\n",
       "    <tr>\n",
       "      <th>8</th>\n",
       "      <td>24628.340</td>\n",
       "    </tr>\n",
       "    <tr>\n",
       "      <th>9</th>\n",
       "      <td>32604.790</td>\n",
       "    </tr>\n",
       "    <tr>\n",
       "      <th>All</th>\n",
       "      <td>815897.826</td>\n",
       "    </tr>\n",
       "  </tbody>\n",
       "</table>\n",
       "</div>"
      ],
      "text/plain": [
       "         sv_sales\n",
       "month            \n",
       "1      118941.780\n",
       "2      184252.446\n",
       "3      152082.980\n",
       "4      178057.890\n",
       "5       44729.910\n",
       "6       18858.240\n",
       "7       61741.450\n",
       "8       24628.340\n",
       "9       32604.790\n",
       "All    815897.826"
      ]
     },
     "execution_count": 10,
     "metadata": {},
     "output_type": "execute_result"
    }
   ],
   "source": [
    "sv7_p = pd.read_excel(r'C:\\Users\\Peter Stoermer\\OneDrive - Enchante Living\\Documents\\Joint_Project_Test\\Test(7-SV).xlsx')\n",
    "sv13_p = pd.read_excel(r'C:\\Users\\Peter Stoermer\\OneDrive - Enchante Living\\Documents\\Joint_Project_Test\\Test(13-SV).xlsx')\n",
    "sv_data = sv7_p.append(sv13_p, sort=True)\n",
    "sv_sales_data = sv_data.pivot_table(index=['month'], values=['amount'], aggfunc='sum', margins=True)\n",
    "sv_sales_data = sv_sales_data.rename(columns={'amount':'sv_sales'})\n",
    "\n",
    "sv_sales_data"
   ]
  },
  {
   "cell_type": "markdown",
   "metadata": {},
   "source": [
    "### SV Inventory Data"
   ]
  },
  {
   "cell_type": "code",
   "execution_count": 11,
   "metadata": {},
   "outputs": [
    {
     "data": {
      "text/html": [
       "<div>\n",
       "<style scoped>\n",
       "    .dataframe tbody tr th:only-of-type {\n",
       "        vertical-align: middle;\n",
       "    }\n",
       "\n",
       "    .dataframe tbody tr th {\n",
       "        vertical-align: top;\n",
       "    }\n",
       "\n",
       "    .dataframe thead th {\n",
       "        text-align: right;\n",
       "    }\n",
       "</style>\n",
       "<table border=\"1\" class=\"dataframe\">\n",
       "  <thead>\n",
       "    <tr style=\"text-align: right;\">\n",
       "      <th></th>\n",
       "      <th>sv_inv</th>\n",
       "    </tr>\n",
       "    <tr>\n",
       "      <th>month</th>\n",
       "      <th></th>\n",
       "    </tr>\n",
       "  </thead>\n",
       "  <tbody>\n",
       "    <tr>\n",
       "      <th>1</th>\n",
       "      <td>33647</td>\n",
       "    </tr>\n",
       "    <tr>\n",
       "      <th>2</th>\n",
       "      <td>54684</td>\n",
       "    </tr>\n",
       "    <tr>\n",
       "      <th>3</th>\n",
       "      <td>14572</td>\n",
       "    </tr>\n",
       "    <tr>\n",
       "      <th>4</th>\n",
       "      <td>32796</td>\n",
       "    </tr>\n",
       "    <tr>\n",
       "      <th>5</th>\n",
       "      <td>2662</td>\n",
       "    </tr>\n",
       "    <tr>\n",
       "      <th>6</th>\n",
       "      <td>383</td>\n",
       "    </tr>\n",
       "    <tr>\n",
       "      <th>7</th>\n",
       "      <td>987</td>\n",
       "    </tr>\n",
       "    <tr>\n",
       "      <th>8</th>\n",
       "      <td>420</td>\n",
       "    </tr>\n",
       "    <tr>\n",
       "      <th>9</th>\n",
       "      <td>884</td>\n",
       "    </tr>\n",
       "    <tr>\n",
       "      <th>All</th>\n",
       "      <td>141035</td>\n",
       "    </tr>\n",
       "  </tbody>\n",
       "</table>\n",
       "</div>"
      ],
      "text/plain": [
       "       sv_inv\n",
       "month        \n",
       "1       33647\n",
       "2       54684\n",
       "3       14572\n",
       "4       32796\n",
       "5        2662\n",
       "6         383\n",
       "7         987\n",
       "8         420\n",
       "9         884\n",
       "All    141035"
      ]
     },
     "execution_count": 11,
     "metadata": {},
     "output_type": "execute_result"
    }
   ],
   "source": [
    "sv_inventory_data = sv_data.pivot_table(index=['month'], values=['shptot'], aggfunc='sum', margins=True)\n",
    "sv_inventory_data = sv_inventory_data.rename(columns={'shptot':'sv_inv'})\n",
    "\n",
    "sv_inventory_data"
   ]
  },
  {
   "cell_type": "markdown",
   "metadata": {},
   "source": [
    "## Merged Dataframes (Sales)"
   ]
  },
  {
   "cell_type": "code",
   "execution_count": 12,
   "metadata": {},
   "outputs": [
    {
     "name": "stdout",
     "output_type": "stream",
     "text": [
      "         sv_sales   si_sales    on_sales          All\n",
      "month                                                \n",
      "1      118941.780   87044.98   543840.26   749827.020\n",
      "2      184252.446  116577.85   662820.98   963651.276\n",
      "3      152082.980  185044.41   376896.87   714024.260\n",
      "4      178057.890   54819.43   366437.41   599314.730\n",
      "5       44729.910  131119.51   107552.70   283402.120\n",
      "6       18858.240   99001.17   423283.87   541143.280\n",
      "7       61741.450   94188.89   918518.20  1074448.540\n",
      "8       24628.340  103340.02  2807595.56  2935563.920\n",
      "9       32604.790   23641.62   341555.86   397802.270\n",
      "All    815897.826  894777.88  6548501.71  8259177.416\n"
     ]
    }
   ],
   "source": [
    "all_sales = pd.concat([sv_sales_data, si_sales_data, on_sales_data], axis=1, join='inner')\n",
    "all_sales = all_sales.eval('All = si_sales + on_sales + sv_sales')\n",
    "print(all_sales)"
   ]
  },
  {
   "cell_type": "markdown",
   "metadata": {},
   "source": [
    "## Merged DataFrames (Inventory)"
   ]
  },
  {
   "cell_type": "code",
   "execution_count": 13,
   "metadata": {},
   "outputs": [
    {
     "name": "stdout",
     "output_type": "stream",
     "text": [
      "       sv_inv  si_inv   on_inv      All\n",
      "month                                  \n",
      "1       33647    3014   157621   194282\n",
      "2       54684    3508   153773   211965\n",
      "3       14572    5468    69874    89914\n",
      "4       32796    1039   104702   138537\n",
      "5        2662    1873    28082    32617\n",
      "6         383    1149    87036    88568\n",
      "7         987    1892   139083   141962\n",
      "8         420    2172   427753   430345\n",
      "9         884     481    71018    72383\n",
      "All    141035   20596  1238942  1400573\n"
     ]
    }
   ],
   "source": [
    "all_inv = pd.concat([sv_inventory_data, si_inventory_data, on_inventory_data], axis=1, join='inner')\n",
    "all_inv = all_inv.eval('All = sv_inv + si_inv + on_inv')\n",
    "print(all_inv)"
   ]
  },
  {
   "cell_type": "markdown",
   "metadata": {},
   "source": [
    "## Append 13 + 7 Files for Inventory Data (Date by Warehouse Data)\n",
    "We are not going to be able to run all of the historic data but we will be able to append both of the charts with cubic (using on_cubic, si_cubic, sv_cubic). Number of units is (on, si, sv). This code uses very similar path structure because all of the data pulled from AIMS is in the same *Raw Files* Folder."
   ]
  },
  {
   "cell_type": "code",
   "execution_count": 14,
   "metadata": {},
   "outputs": [
    {
     "name": "stdout",
     "output_type": "stream",
     "text": [
      " Total sum of units in ON warehouse: 1029987\n"
     ]
    }
   ],
   "source": [
    "#### Number of Units ON ####\n",
    "on_13_inv = pd.read_excel(r'C:\\Users\\Peter Stoermer\\OneDrive - Enchante Living\\Documents\\Joint_Project_Test\\13-ON-Inv.xls')\n",
    "on_7_inv = pd.read_excel(r'C:\\Users\\Peter Stoermer\\OneDrive - Enchante Living\\Documents\\Joint_Project_Test\\7-ON-Inv.xls')\n",
    "on_units = on_13_inv.append(on_7_inv)\n",
    "on_units_sum = on_units['on'].sum()\n",
    "print(f' Total sum of units in ON warehouse: {on_units_sum}')"
   ]
  },
  {
   "cell_type": "code",
   "execution_count": 15,
   "metadata": {},
   "outputs": [
    {
     "name": "stdout",
     "output_type": "stream",
     "text": [
      " Total sum of units in SI warehouse: 48015\n"
     ]
    }
   ],
   "source": [
    "#### Number of Units SI ####\n",
    "si_13_inv = pd.read_excel(r'C:\\Users\\Peter Stoermer\\OneDrive - Enchante Living\\Documents\\Joint_Project_Test\\13-SI-Inv.xls')\n",
    "si_7_inv = pd.read_excel(r'C:\\Users\\Peter Stoermer\\OneDrive - Enchante Living\\Documents\\Joint_Project_Test\\7-SI-Inv.xls')\n",
    "si_units = si_13_inv.append(si_7_inv)\n",
    "si_units_sum = si_units['si'].sum()\n",
    "print(f' Total sum of units in SI warehouse: {si_units_sum}')"
   ]
  },
  {
   "cell_type": "code",
   "execution_count": 16,
   "metadata": {},
   "outputs": [
    {
     "name": "stdout",
     "output_type": "stream",
     "text": [
      " Total sum of units in SV warehouse: 28508\n"
     ]
    }
   ],
   "source": [
    "#### Number of Units SV ####\n",
    "sv_13_inv = pd.read_excel(r'C:\\Users\\Peter Stoermer\\OneDrive - Enchante Living\\Documents\\Joint_Project_Test\\13-SV-Inv.xls')\n",
    "sv_7_inv = pd.read_excel(r'C:\\Users\\Peter Stoermer\\OneDrive - Enchante Living\\Documents\\Joint_Project_Test\\7-SV-Inv.xls')\n",
    "sv_units = sv_13_inv.append(sv_7_inv)\n",
    "sv_units_sum = sv_units['sv'].sum()\n",
    "print(f' Total sum of units in SV warehouse: {sv_units_sum}')"
   ]
  },
  {
   "cell_type": "code",
   "execution_count": 17,
   "metadata": {},
   "outputs": [
    {
     "data": {
      "text/html": [
       "<div>\n",
       "<style scoped>\n",
       "    .dataframe tbody tr th:only-of-type {\n",
       "        vertical-align: middle;\n",
       "    }\n",
       "\n",
       "    .dataframe tbody tr th {\n",
       "        vertical-align: top;\n",
       "    }\n",
       "\n",
       "    .dataframe thead th {\n",
       "        text-align: right;\n",
       "    }\n",
       "</style>\n",
       "<table border=\"1\" class=\"dataframe\">\n",
       "  <thead>\n",
       "    <tr style=\"text-align: right;\">\n",
       "      <th></th>\n",
       "      <th>Date</th>\n",
       "      <th>Units</th>\n",
       "      <th>ON</th>\n",
       "      <th>SI</th>\n",
       "      <th>SV</th>\n",
       "      <th>All</th>\n",
       "    </tr>\n",
       "  </thead>\n",
       "  <tbody>\n",
       "    <tr>\n",
       "      <th>0</th>\n",
       "      <td>2022-09-19 17:31:45.645493</td>\n",
       "      <td>Units</td>\n",
       "      <td>1029987</td>\n",
       "      <td>48015</td>\n",
       "      <td>28508</td>\n",
       "      <td>1106510</td>\n",
       "    </tr>\n",
       "  </tbody>\n",
       "</table>\n",
       "</div>"
      ],
      "text/plain": [
       "                        Date  Units       ON     SI     SV      All\n",
       "0 2022-09-19 17:31:45.645493  Units  1029987  48015  28508  1106510"
      ]
     },
     "execution_count": 17,
     "metadata": {},
     "output_type": "execute_result"
    }
   ],
   "source": [
    "#### Final Output for Section ####\n",
    "units_series = [[pd.Timestamp.today(), \"Units\", on_units_sum, si_units_sum, sv_units_sum]]\n",
    "units = pd.DataFrame(units_series)\n",
    "#pd.pivot(units, values=['on_units_sum', 'sv_units_sum', 'si_units_sum'])\n",
    "#units.reset_index(drop=True)\n",
    "units.columns = ['Date', 'Units', 'ON', 'SI', 'SV']\n",
    "units[\"All\"] = units.sum(axis=1)\n",
    "units"
   ]
  },
  {
   "cell_type": "markdown",
   "metadata": {},
   "source": [
    "## Date by Warehouse Space"
   ]
  },
  {
   "cell_type": "code",
   "execution_count": 18,
   "metadata": {},
   "outputs": [
    {
     "name": "stdout",
     "output_type": "stream",
     "text": [
      " Total sum of units in ON warehouse: 217848.25\n"
     ]
    }
   ],
   "source": [
    "#### Space of Units ON ####\n",
    "on_space = on_units\n",
    "on_space_sum = round(on_space['on_cubic'].sum(), 2)\n",
    "print(f' Total sum of units in ON warehouse: {on_space_sum}')"
   ]
  },
  {
   "cell_type": "code",
   "execution_count": 19,
   "metadata": {},
   "outputs": [
    {
     "name": "stdout",
     "output_type": "stream",
     "text": [
      " Total sum of units in SI warehouse: 33471.65\n"
     ]
    }
   ],
   "source": [
    "#### Space of Units SI ####\n",
    "si_space = si_units\n",
    "si_space_sum = round(si_space['si_cubic'].sum(), 2)\n",
    "print(f' Total sum of units in SI warehouse: {si_space_sum}')"
   ]
  },
  {
   "cell_type": "code",
   "execution_count": 20,
   "metadata": {},
   "outputs": [
    {
     "name": "stdout",
     "output_type": "stream",
     "text": [
      " Total sum of units in SV warehouse: 29051.24\n"
     ]
    }
   ],
   "source": [
    "#### Space of Units SV ####\n",
    "sv_space = sv_units\n",
    "sv_space_sum = round(sv_space['sv_cubic'].sum(), 2)\n",
    "print(f' Total sum of units in SV warehouse: {sv_space_sum}')"
   ]
  },
  {
   "cell_type": "code",
   "execution_count": 21,
   "metadata": {},
   "outputs": [
    {
     "data": {
      "text/html": [
       "<div>\n",
       "<style scoped>\n",
       "    .dataframe tbody tr th:only-of-type {\n",
       "        vertical-align: middle;\n",
       "    }\n",
       "\n",
       "    .dataframe tbody tr th {\n",
       "        vertical-align: top;\n",
       "    }\n",
       "\n",
       "    .dataframe thead th {\n",
       "        text-align: right;\n",
       "    }\n",
       "</style>\n",
       "<table border=\"1\" class=\"dataframe\">\n",
       "  <thead>\n",
       "    <tr style=\"text-align: right;\">\n",
       "      <th></th>\n",
       "      <th>Date</th>\n",
       "      <th>Cubic</th>\n",
       "      <th>ON</th>\n",
       "      <th>SI</th>\n",
       "      <th>SV</th>\n",
       "      <th>All</th>\n",
       "    </tr>\n",
       "  </thead>\n",
       "  <tbody>\n",
       "    <tr>\n",
       "      <th>0</th>\n",
       "      <td>2022-09-19 17:31:45.823539</td>\n",
       "      <td>Cubic</td>\n",
       "      <td>217848.25</td>\n",
       "      <td>33471.65</td>\n",
       "      <td>29051.24</td>\n",
       "      <td>280371.14</td>\n",
       "    </tr>\n",
       "  </tbody>\n",
       "</table>\n",
       "</div>"
      ],
      "text/plain": [
       "                        Date  Cubic         ON        SI        SV        All\n",
       "0 2022-09-19 17:31:45.823539  Cubic  217848.25  33471.65  29051.24  280371.14"
      ]
     },
     "execution_count": 21,
     "metadata": {},
     "output_type": "execute_result"
    }
   ],
   "source": [
    "#### Final Output for Section ####\n",
    "space_series = [[pd.Timestamp.today(), \"Cubic\", on_space_sum, si_space_sum, sv_space_sum]]\n",
    "space = pd.DataFrame(space_series)\n",
    "#pd.pivot(units, values=['on_units_sum', 'sv_units_sum', 'si_units_sum'])\n",
    "#units.reset_index(drop=True)\n",
    "space.columns = ['Date', 'Cubic', 'ON', 'SI', 'SV']\n",
    "space[\"All\"] = space.sum(axis=1)\n",
    "space"
   ]
  },
  {
   "cell_type": "markdown",
   "metadata": {},
   "source": [
    "## CBF & CBM\n",
    "We are using the inventory data for this section (for SI (7-SI-Inv & 13-SI-Inv)). They are already combined so all we have to do is isolate the columns for the appropriate information. The formula for cubic ft is $CBF = cubic \\, ft / master * (on/si/sv)$. To get meters the formula is $CBM=CBF/35.3$ "
   ]
  },
  {
   "cell_type": "code",
   "execution_count": 22,
   "metadata": {},
   "outputs": [
    {
     "data": {
      "text/html": [
       "<div>\n",
       "<style scoped>\n",
       "    .dataframe tbody tr th:only-of-type {\n",
       "        vertical-align: middle;\n",
       "    }\n",
       "\n",
       "    .dataframe tbody tr th {\n",
       "        vertical-align: top;\n",
       "    }\n",
       "\n",
       "    .dataframe thead th {\n",
       "        text-align: right;\n",
       "    }\n",
       "</style>\n",
       "<table border=\"1\" class=\"dataframe\">\n",
       "  <thead>\n",
       "    <tr style=\"text-align: right;\">\n",
       "      <th></th>\n",
       "      <th>Division</th>\n",
       "      <th>Category</th>\n",
       "      <th>ID</th>\n",
       "      <th>Account</th>\n",
       "      <th>AIMS Data</th>\n",
       "      <th>AIMS Division</th>\n",
       "      <th>style</th>\n",
       "      <th>color</th>\n",
       "      <th>Type</th>\n",
       "      <th>Status</th>\n",
       "      <th>...</th>\n",
       "      <th>Less Than 3 Months</th>\n",
       "      <th>Over 3 Months</th>\n",
       "      <th>Over 6 Months</th>\n",
       "      <th>Over 9 Months</th>\n",
       "      <th>Over 12 Months</th>\n",
       "      <th>Less Than 3 Months Value ELC</th>\n",
       "      <th>Over 3 Months Value ELC</th>\n",
       "      <th>Over 6 Months Value ELC</th>\n",
       "      <th>Over 9 Months Value ELC</th>\n",
       "      <th>Over 12 Months Value ELC</th>\n",
       "    </tr>\n",
       "  </thead>\n",
       "  <tbody>\n",
       "    <tr>\n",
       "      <th>0</th>\n",
       "      <td>Bathroom Acc</td>\n",
       "      <td>Bathroom Acc</td>\n",
       "      <td>30900121008</td>\n",
       "      <td>Alejandra</td>\n",
       "      <td>7</td>\n",
       "      <td>D</td>\n",
       "      <td>30900121</td>\n",
       "      <td>008</td>\n",
       "      <td>In-Line</td>\n",
       "      <td>Active</td>\n",
       "      <td>...</td>\n",
       "      <td>0</td>\n",
       "      <td>0</td>\n",
       "      <td>0</td>\n",
       "      <td>0</td>\n",
       "      <td>192</td>\n",
       "      <td>0.0</td>\n",
       "      <td>0.0</td>\n",
       "      <td>0.0</td>\n",
       "      <td>0.0</td>\n",
       "      <td>456.96</td>\n",
       "    </tr>\n",
       "    <tr>\n",
       "      <th>1</th>\n",
       "      <td>Bathroom Acc</td>\n",
       "      <td>Bathroom Acc</td>\n",
       "      <td>30900131008</td>\n",
       "      <td>Alejandra</td>\n",
       "      <td>7</td>\n",
       "      <td>D</td>\n",
       "      <td>30900131</td>\n",
       "      <td>008</td>\n",
       "      <td>In-Line</td>\n",
       "      <td>Active</td>\n",
       "      <td>...</td>\n",
       "      <td>0</td>\n",
       "      <td>0</td>\n",
       "      <td>0</td>\n",
       "      <td>0</td>\n",
       "      <td>360</td>\n",
       "      <td>0.0</td>\n",
       "      <td>0.0</td>\n",
       "      <td>0.0</td>\n",
       "      <td>0.0</td>\n",
       "      <td>583.20</td>\n",
       "    </tr>\n",
       "    <tr>\n",
       "      <th>2</th>\n",
       "      <td>Bathroom Acc</td>\n",
       "      <td>Bathroom Acc</td>\n",
       "      <td>30900141008</td>\n",
       "      <td>Alejandra</td>\n",
       "      <td>7</td>\n",
       "      <td>D</td>\n",
       "      <td>30900141</td>\n",
       "      <td>008</td>\n",
       "      <td>In-Line</td>\n",
       "      <td>Active</td>\n",
       "      <td>...</td>\n",
       "      <td>0</td>\n",
       "      <td>0</td>\n",
       "      <td>0</td>\n",
       "      <td>0</td>\n",
       "      <td>336</td>\n",
       "      <td>0.0</td>\n",
       "      <td>0.0</td>\n",
       "      <td>0.0</td>\n",
       "      <td>0.0</td>\n",
       "      <td>635.04</td>\n",
       "    </tr>\n",
       "    <tr>\n",
       "      <th>3</th>\n",
       "      <td>Bathroom Acc</td>\n",
       "      <td>Bathroom Acc</td>\n",
       "      <td>30900151020</td>\n",
       "      <td>Alejandra</td>\n",
       "      <td>7</td>\n",
       "      <td>D</td>\n",
       "      <td>30900151</td>\n",
       "      <td>020</td>\n",
       "      <td>In-Line</td>\n",
       "      <td>Active</td>\n",
       "      <td>...</td>\n",
       "      <td>0</td>\n",
       "      <td>0</td>\n",
       "      <td>0</td>\n",
       "      <td>0</td>\n",
       "      <td>0</td>\n",
       "      <td>0.0</td>\n",
       "      <td>0.0</td>\n",
       "      <td>0.0</td>\n",
       "      <td>0.0</td>\n",
       "      <td>0.00</td>\n",
       "    </tr>\n",
       "    <tr>\n",
       "      <th>4</th>\n",
       "      <td>Bathroom Acc</td>\n",
       "      <td>Bathroom Acc</td>\n",
       "      <td>30900191029</td>\n",
       "      <td>Alejandra</td>\n",
       "      <td>7</td>\n",
       "      <td>D</td>\n",
       "      <td>30900191</td>\n",
       "      <td>029</td>\n",
       "      <td>In-Line</td>\n",
       "      <td>Active</td>\n",
       "      <td>...</td>\n",
       "      <td>0</td>\n",
       "      <td>0</td>\n",
       "      <td>0</td>\n",
       "      <td>0</td>\n",
       "      <td>0</td>\n",
       "      <td>0.0</td>\n",
       "      <td>0.0</td>\n",
       "      <td>0.0</td>\n",
       "      <td>0.0</td>\n",
       "      <td>0.00</td>\n",
       "    </tr>\n",
       "  </tbody>\n",
       "</table>\n",
       "<p>5 rows × 141 columns</p>\n",
       "</div>"
      ],
      "text/plain": [
       "       Division      Category           ID    Account  AIMS Data  \\\n",
       "0  Bathroom Acc  Bathroom Acc  30900121008  Alejandra          7   \n",
       "1  Bathroom Acc  Bathroom Acc  30900131008  Alejandra          7   \n",
       "2  Bathroom Acc  Bathroom Acc  30900141008  Alejandra          7   \n",
       "3  Bathroom Acc  Bathroom Acc  30900151020  Alejandra          7   \n",
       "4  Bathroom Acc  Bathroom Acc  30900191029  Alejandra          7   \n",
       "\n",
       "  AIMS Division     style color     Type  Status  ...  Less Than 3 Months  \\\n",
       "0             D  30900121   008  In-Line  Active  ...                   0   \n",
       "1             D  30900131   008  In-Line  Active  ...                   0   \n",
       "2             D  30900141   008  In-Line  Active  ...                   0   \n",
       "3             D  30900151   020  In-Line  Active  ...                   0   \n",
       "4             D  30900191   029  In-Line  Active  ...                   0   \n",
       "\n",
       "   Over 3 Months  Over 6 Months  Over 9 Months  Over 12 Months  \\\n",
       "0              0              0              0             192   \n",
       "1              0              0              0             360   \n",
       "2              0              0              0             336   \n",
       "3              0              0              0               0   \n",
       "4              0              0              0               0   \n",
       "\n",
       "   Less Than 3 Months Value ELC  Over 3 Months Value ELC  \\\n",
       "0                           0.0                      0.0   \n",
       "1                           0.0                      0.0   \n",
       "2                           0.0                      0.0   \n",
       "3                           0.0                      0.0   \n",
       "4                           0.0                      0.0   \n",
       "\n",
       "   Over 6 Months Value ELC  Over 9 Months Value ELC  Over 12 Months Value ELC  \n",
       "0                      0.0                      0.0                    456.96  \n",
       "1                      0.0                      0.0                    583.20  \n",
       "2                      0.0                      0.0                    635.04  \n",
       "3                      0.0                      0.0                      0.00  \n",
       "4                      0.0                      0.0                      0.00  \n",
       "\n",
       "[5 rows x 141 columns]"
      ]
     },
     "execution_count": 22,
     "metadata": {},
     "output_type": "execute_result"
    }
   ],
   "source": [
    "# NOTES: I have to change the first row to lower case in order to join both of the df's together to get month and CBM data\n",
    "inv_report = pd.read_excel(r'C:\\Users\\Peter Stoermer\\OneDrive - Enchante Living\\Documents\\Joint_Project_Test\\Copy of Inventory Report - For Audit - September 12, 2022.xlsx', header=2)\n",
    "inv_report.head()"
   ]
  },
  {
   "cell_type": "markdown",
   "metadata": {},
   "source": [
    "#### SI CBM & CBF"
   ]
  },
  {
   "cell_type": "code",
   "execution_count": 25,
   "metadata": {},
   "outputs": [],
   "source": [
    "si_data = si_data.merge(inv_report, on=['style', 'color'], suffixes=('_left', '_right'))\n"
   ]
  },
  {
   "cell_type": "code",
   "execution_count": 26,
   "metadata": {},
   "outputs": [
    {
     "name": "stdout",
     "output_type": "stream",
     "text": [
      "           SI_CBM\n",
      "month            \n",
      "1       59.934292\n",
      "2       56.665978\n",
      "3       58.309853\n",
      "4       31.691858\n",
      "5       76.212056\n",
      "6       59.716477\n",
      "7       42.976303\n",
      "8       47.751611\n",
      "9        9.586623\n",
      "All    442.845051\n"
     ]
    }
   ],
   "source": [
    "si_data['total_cbm'] = si_data['CRTN CBM_left']/si_data[\"Casepack_left\"]*si_data[\"shptot\"]\n",
    "cbm_si = si_data.pivot_table(index=['month'], values=['total_cbm'], aggfunc='sum', margins=True)\n",
    "cbm_si = cbm_si.rename(columns={'total_cbm':'SI_CBM'})\n",
    "print(cbm_si)"
   ]
  },
  {
   "cell_type": "code",
   "execution_count": 27,
   "metadata": {},
   "outputs": [
    {
     "name": "stdout",
     "output_type": "stream",
     "text": [
      "          SI_CBF\n",
      "month           \n",
      "1       1.697855\n",
      "2       1.605268\n",
      "3       1.651837\n",
      "4       0.897786\n",
      "5       2.158982\n",
      "6       1.691685\n",
      "7       1.217459\n",
      "8       1.352737\n",
      "9       0.271576\n",
      "All    12.545186\n"
     ]
    }
   ],
   "source": [
    "si_data['total_cbf'] = si_data['total_cbm']*35.3\n",
    "cbf_si = si_data.pivot_table(index=['month'], values=['total_cbf'], aggfunc='sum', margins=True)\n",
    "cbf_si = cbf_si.rename(columns={'total_cbf':'SI_CBF'})\n",
    "print(cbf_si)"
   ]
  },
  {
   "cell_type": "markdown",
   "metadata": {},
   "source": [
    "#### SV CBM & CBF"
   ]
  },
  {
   "cell_type": "code",
   "execution_count": 30,
   "metadata": {},
   "outputs": [],
   "source": [
    "sv_data = sv_data.merge(inv_report, on=['style', 'color'], suffixes=('_left', '_right'))"
   ]
  },
  {
   "cell_type": "code",
   "execution_count": 31,
   "metadata": {},
   "outputs": [
    {
     "name": "stdout",
     "output_type": "stream",
     "text": [
      "           SV_CBM\n",
      "month            \n",
      "1      186.636151\n",
      "2      194.920804\n",
      "3       11.143833\n",
      "4       77.009970\n",
      "5       36.260288\n",
      "6        8.030804\n",
      "7       69.538821\n",
      "8       27.142892\n",
      "9       10.211872\n",
      "All    620.895436\n"
     ]
    }
   ],
   "source": [
    "sv_data['total_cbm'] = sv_data['CRTN CBM_left']/sv_data[\"Casepack_left\"]*sv_data[\"shptot\"]\n",
    "cbm_sv = sv_data.pivot_table(index=['month'], values=['total_cbm'], aggfunc='sum', margins=True)\n",
    "cbm_sv = cbm_sv.rename(columns={'total_cbm':'SV_CBM'})\n",
    "print(cbm_sv)"
   ]
  },
  {
   "cell_type": "code",
   "execution_count": 32,
   "metadata": {},
   "outputs": [
    {
     "name": "stdout",
     "output_type": "stream",
     "text": [
      "          SV_CBF\n",
      "month           \n",
      "1       5.287143\n",
      "2       5.521836\n",
      "3       0.315689\n",
      "4       2.181586\n",
      "5       1.027204\n",
      "6       0.227502\n",
      "7       1.969938\n",
      "8       0.768920\n",
      "9       0.289288\n",
      "All    17.589106\n"
     ]
    }
   ],
   "source": [
    "sv_data['total_cbf'] = sv_data['total_cbm']*35.3\n",
    "cbf_sv = sv_data.pivot_table(index=['month'], values=['total_cbf'], aggfunc='sum', margins=True)\n",
    "cbf_sv = cbf_sv.rename(columns={'total_cbf':'SV_CBF'})\n",
    "print(cbf_sv)"
   ]
  },
  {
   "cell_type": "markdown",
   "metadata": {},
   "source": [
    "#### ON CBM & CBF"
   ]
  },
  {
   "cell_type": "code",
   "execution_count": 35,
   "metadata": {},
   "outputs": [],
   "source": [
    "on_data = on_data.merge(inv_report, on=['style', 'color'], suffixes=('_left', '_right'))"
   ]
  },
  {
   "cell_type": "code",
   "execution_count": 36,
   "metadata": {},
   "outputs": [
    {
     "name": "stdout",
     "output_type": "stream",
     "text": [
      "            ON_CBM\n",
      "month             \n",
      "1       445.925279\n",
      "2       478.917084\n",
      "3       286.406390\n",
      "4       270.243080\n",
      "5        59.066849\n",
      "6       222.433081\n",
      "7       839.382980\n",
      "8      2156.534036\n",
      "9       314.669833\n",
      "All    5073.578613\n"
     ]
    }
   ],
   "source": [
    "on_data['total_cbm'] = on_data['CRTN CBM_left']/on_data[\"Casepack_left\"]*on_data[\"shptot\"]\n",
    "cbm_on = on_data.pivot_table(index=['month'], values=['total_cbm'], aggfunc='sum', margins=True)\n",
    "cbm_on = cbm_on.rename(columns={'total_cbm':'ON_CBM'})\n",
    "print(cbm_on)"
   ]
  },
  {
   "cell_type": "code",
   "execution_count": 37,
   "metadata": {},
   "outputs": [
    {
     "name": "stdout",
     "output_type": "stream",
     "text": [
      "           ON_CBF\n",
      "month            \n",
      "1       12.632444\n",
      "2       13.567056\n",
      "3        8.113495\n",
      "4        7.655611\n",
      "5        1.673282\n",
      "6        6.301220\n",
      "7       23.778555\n",
      "8       61.091616\n",
      "9        8.914160\n",
      "All    143.727439\n"
     ]
    }
   ],
   "source": [
    "on_data['total_cbf'] = on_data['total_cbm']*35.3\n",
    "cbf_on = on_data.pivot_table(index=['month'], values=['total_cbf'], aggfunc='sum', margins=True)\n",
    "cbf_on = cbf_on.rename(columns={'total_cbf':'ON_CBF'})\n",
    "print(cbf_on)"
   ]
  },
  {
   "cell_type": "markdown",
   "metadata": {},
   "source": [
    "### Combine CBM & CBF Data Frames"
   ]
  },
  {
   "cell_type": "code",
   "execution_count": 38,
   "metadata": {},
   "outputs": [
    {
     "name": "stdout",
     "output_type": "stream",
     "text": [
      "           SV_CBM      SI_CBM       ON_CBM          All\n",
      "month                                                  \n",
      "1      186.636151   59.934292   445.925279   692.495723\n",
      "2      194.920804   56.665978   478.917084   730.503866\n",
      "3       11.143833   58.309853   286.406390   355.860076\n",
      "4       77.009970   31.691858   270.243080   378.944908\n",
      "5       36.260288   76.212056    59.066849   171.539194\n",
      "6        8.030804   59.716477   222.433081   290.180362\n",
      "7       69.538821   42.976303   839.382980   951.898103\n",
      "8       27.142892   47.751611  2156.534036  2231.428539\n",
      "9       10.211872    9.586623   314.669833   334.468328\n",
      "All    620.895436  442.845051  5073.578613  6137.319099\n"
     ]
    }
   ],
   "source": [
    "### CBM SV, SI, ON\n",
    "\n",
    "cbm = pd.concat([cbm_sv, cbm_si, cbm_on], axis=1, join='inner')\n",
    "cbm = cbm.eval('All = SV_CBM + SI_CBM + ON_CBM')\n",
    "print(cbm)"
   ]
  },
  {
   "cell_type": "code",
   "execution_count": 39,
   "metadata": {},
   "outputs": [
    {
     "name": "stdout",
     "output_type": "stream",
     "text": [
      "          SV_CBF     SI_CBF      ON_CBF         All\n",
      "month                                              \n",
      "1       5.287143   1.697855   12.632444   19.617443\n",
      "2       5.521836   1.605268   13.567056   20.694161\n",
      "3       0.315689   1.651837    8.113495   10.081022\n",
      "4       2.181586   0.897786    7.655611   10.734983\n",
      "5       1.027204   2.158982    1.673282    4.859467\n",
      "6       0.227502   1.691685    6.301220    8.220407\n",
      "7       1.969938   1.217459   23.778555   26.965952\n",
      "8       0.768920   1.352737   61.091616   63.213273\n",
      "9       0.289288   0.271576    8.914160    9.475023\n",
      "All    17.589106  12.545186  143.727439  173.861731\n"
     ]
    }
   ],
   "source": [
    "### CBF SV, SI, ON\n",
    "\n",
    "cbf = pd.concat([cbf_sv, cbf_si, cbf_on], axis=1, join='inner')\n",
    "cbf = cbf.eval('All =  SV_CBF + SI_CBF + ON_CBF')\n",
    "print(cbf)"
   ]
  },
  {
   "cell_type": "code",
   "execution_count": 40,
   "metadata": {},
   "outputs": [
    {
     "name": "stdout",
     "output_type": "stream",
     "text": [
      "The total CBF for SI is: 13767.79\n",
      "\n",
      "The total CBM for SI is: 390.02\n"
     ]
    }
   ],
   "source": [
    "#### CBM & CBF for SI ####\n",
    "\n",
    "si_units[\"cbf\"] = si_units[\"cubic_ft\"] / si_units[\"master_pack\"] * si_units[\"si\"]\n",
    "si_cbf = round(si_units[\"cbf\"].sum(), 2)\n",
    "print(f\"The total CBF for SI is: {si_cbf}\")\n",
    "\n",
    "print()\n",
    "\n",
    "si_units[\"cbm\"] = si_units[\"cubic_ft\"] / si_units[\"master_pack\"] * si_units[\"si\"] / 35.3\n",
    "si_cbm = round(si_units['cbm'].sum(), 2)\n",
    "print(f\"The total CBM for SI is: {si_cbm}\")"
   ]
  },
  {
   "cell_type": "code",
   "execution_count": null,
   "metadata": {},
   "outputs": [],
   "source": [
    "#### CBM & CBF for ON ####\n",
    "\n",
    "sv_units[\"cbf\"] = sv_units[\"cubic_ft\"] / sv_units[\"master_pack\"] * sv_units[\"sv\"]\n",
    "sv_cbf = round(sv_units[\"cbf\"].sum(), 2)\n",
    "print(f\"The total CBF for SV is: {sv_cbf}\")\n",
    "\n",
    "print()\n",
    "\n",
    "sv_units[\"cbm\"] = sv_units[\"cubic_ft\"] / sv_units[\"master_pack\"] * sv_units[\"sv\"] / 35.3\n",
    "sv_cbm = round(sv_units['cbm'].sum(), 2)\n",
    "print(f\"The total CBM for SV is: {sv_cbm}\")"
   ]
  },
  {
   "cell_type": "markdown",
   "metadata": {},
   "source": [
    "#### Keeping for Record\n",
    "\n",
    "sales_master = sales.merge(inv_report, on=['style', 'color'], suffixes=('_left', '_right'))\n",
    "sales_master['CRTN CBF'] = sales_master['CRTN CBM'].div(35.3)\n",
    "sales_master.head()"
   ]
  },
  {
   "cell_type": "markdown",
   "metadata": {},
   "source": [
    "#### Keeping for Record\n",
    "\n",
    "cbm_month = sales_master.pivot_table(index=['month'], values=['CRTN CBM'], aggfunc='sum', margins=True) \n",
    "cbm_month"
   ]
  },
  {
   "cell_type": "markdown",
   "metadata": {},
   "source": [
    "#### Keeping for Record\n",
    "\n",
    "cbf_month = sales_master.pivot_table(index=['month'], values=['CRTN CBF'], aggfunc='sum', margins=True) \n",
    "cbf_month"
   ]
  },
  {
   "cell_type": "code",
   "execution_count": null,
   "metadata": {},
   "outputs": [],
   "source": [
    "## Test for SI CBM & CBF\n",
    "\n",
    "si_data['total_cbm'] = si_data['CRTN CBM_left']/si_data[\"Casepack_left\"]*si_data[\"shptot\"]\n",
    "cbm_si = si_data.pivot_table(index=['month'], values=['total_cbm'], aggfunc='sum', margins=True)\n",
    "cbm_si = cbm_si.rename(columns={'total_cbm':'SI_CBM'})\n",
    "print(cbm_si)"
   ]
  },
  {
   "cell_type": "markdown",
   "metadata": {},
   "source": [
    "### Testing Outputs"
   ]
  },
  {
   "cell_type": "markdown",
   "metadata": {},
   "source": [
    "To test the outputs I am going to create an open file using a excel python package. It is easy to make each pivot table its own sheet in the excel workbook. I want to challenge myself and look into the documentation and see if there is a way to have it all work on one sheet (eliminating the chance for human error or incorrect reporting). **The below code works, search Formatting_Test.xlsx for the full workbook**"
   ]
  },
  {
   "cell_type": "code",
   "execution_count": 41,
   "metadata": {},
   "outputs": [],
   "source": [
    "   #### function for excel file ####\n",
    "def multiple_dfs(df_list, sheets, file_name, spaces):\n",
    "        writer = pd.ExcelWriter(file_name,engine='xlsxwriter')   \n",
    "        row = 0\n",
    "        for dataframe in df_list:\n",
    "            dataframe.to_excel(writer,sheet_name=sheets,startrow=row , startcol=2)   \n",
    "            row = row + len(dataframe.index) + spaces + 1\n",
    "        writer.save()\n",
    "\n",
    "    ##### list of dataframes #####\n",
    "dfs = [units, space, all_sales, all_inv, cbm, cbf]\n",
    "\n",
    "    #### run function ####\n",
    "multiple_dfs(dfs, 'Summary', 'Test_Final.xlsx', 1)"
   ]
  },
  {
   "cell_type": "code",
   "execution_count": null,
   "metadata": {},
   "outputs": [],
   "source": []
  }
 ],
 "metadata": {
  "kernelspec": {
   "display_name": "Python 3",
   "language": "python",
   "name": "python3"
  },
  "language_info": {
   "codemirror_mode": {
    "name": "ipython",
    "version": 3
   },
   "file_extension": ".py",
   "mimetype": "text/x-python",
   "name": "python",
   "nbconvert_exporter": "python",
   "pygments_lexer": "ipython3",
   "version": "3.7.3"
  }
 },
 "nbformat": 4,
 "nbformat_minor": 2
}
